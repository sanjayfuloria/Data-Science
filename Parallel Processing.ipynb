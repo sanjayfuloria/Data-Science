{
 "cells": [
  {
   "cell_type": "code",
   "execution_count": 19,
   "metadata": {},
   "outputs": [],
   "source": [
    "import multiprocessing as multip\n",
    "import numpy as nump\n",
    "from time import time\n",
    "\n"
   ]
  },
  {
   "cell_type": "code",
   "execution_count": 21,
   "metadata": {},
   "outputs": [],
   "source": [
    "import os\n",
    "import time\n",
    "import threading\n",
    "import multiprocessing\n",
    " \n",
    "NUM_WORKERS = 4\n",
    " \n",
    "def only_sleep():\n",
    "    \"\"\" Do nothing, wait for a timer to expire \"\"\"\n",
    "    print(\"PID: %s, Process Name: %s, Thread Name: %s\" % (\n",
    "        os.getpid(),\n",
    "        multiprocessing.current_process().name,\n",
    "        threading.current_thread().name)\n",
    "    )\n",
    "    time.sleep(1)\n",
    " \n",
    " \n",
    "def crunch_numbers():\n",
    "    \"\"\" Do some computations \"\"\"\n",
    "    print(\"PID: %s, Process Name: %s, Thread Name: %s\" % (\n",
    "        os.getpid(),\n",
    "        multiprocessing.current_process().name,\n",
    "        threading.current_thread().name)\n",
    "    )\n",
    "    x = 0\n",
    "    while x < 10000000:\n",
    "        x += 1"
   ]
  },
  {
   "cell_type": "code",
   "execution_count": 22,
   "metadata": {},
   "outputs": [
    {
     "name": "stdout",
     "output_type": "stream",
     "text": [
      "PID: 1814, Process Name: MainProcess, Thread Name: MainThread\n",
      "PID: 1814, Process Name: MainProcess, Thread Name: MainThread\n",
      "PID: 1814, Process Name: MainProcess, Thread Name: MainThread\n",
      "PID: 1814, Process Name: MainProcess, Thread Name: MainThread\n",
      "Serial time= 4.0078489780426025\n",
      "PID: 1814, Process Name: MainProcess, Thread Name: Thread-7\n",
      "PID: 1814, Process Name: MainProcess, Thread Name: Thread-8\n",
      "PID: 1814, Process Name: MainProcess, Thread Name: Thread-9\n",
      "PID: 1814, Process Name: MainProcess, Thread Name: Thread-10\n",
      "Threads time= 1.0061676502227783\n",
      "PID: 1814, Process Name: MainProcess, Thread Name: MainThread\n",
      "PID: 1814, Process Name: MainProcess, Thread Name: MainThread\n",
      "PID: 1814, Process Name: MainProcess, Thread Name: MainThread\n",
      "PID: 1814, Process Name: MainProcess, Thread Name: MainThread\n",
      "Parallel time= 4.052859783172607\n"
     ]
    }
   ],
   "source": [
    "## Run tasks serially\n",
    "start_time = time.time()\n",
    "for _ in range(NUM_WORKERS):\n",
    "    only_sleep()\n",
    "end_time = time.time()\n",
    " \n",
    "print(\"Serial time=\", end_time - start_time)\n",
    " \n",
    "# Run tasks using threads\n",
    "start_time = time.time()\n",
    "threads = [threading.Thread(target=only_sleep) for _ in range(NUM_WORKERS)]\n",
    "[thread.start() for thread in threads]\n",
    "[thread.join() for thread in threads]\n",
    "end_time = time.time()\n",
    " \n",
    "print(\"Threads time=\", end_time - start_time)\n",
    " \n",
    "# Run tasks using processes\n",
    "start_time = time.time()\n",
    "processes = [multiprocessing.Process(target=only_sleep()) for _ in range(NUM_WORKERS)]\n",
    "[process.start() for process in processes]\n",
    "[process.join() for process in processes]\n",
    "end_time = time.time()\n",
    " \n",
    "print(\"Parallel time=\", end_time - start_time)"
   ]
  },
  {
   "cell_type": "code",
   "execution_count": 23,
   "metadata": {},
   "outputs": [
    {
     "name": "stdout",
     "output_type": "stream",
     "text": [
      "PID: 1814, Process Name: MainProcess, Thread Name: MainThread\n",
      "PID: 1814, Process Name: MainProcess, Thread Name: MainThread\n",
      "PID: 1814, Process Name: MainProcess, Thread Name: MainThread\n",
      "PID: 1814, Process Name: MainProcess, Thread Name: MainThread\n",
      "Serial time= 2.8754611015319824\n",
      "PID: 1814, Process Name: MainProcess, Thread Name: Thread-11\n",
      "PID: 1814, Process Name: MainProcess, Thread Name: Thread-12\n",
      "PID: 1814, Process Name: MainProcess, Thread Name: Thread-13\n",
      "PID: 1814, Process Name: MainProcess, Thread Name: Thread-14\n",
      "Threads time= 2.912302017211914\n",
      "PID: 1835, Process Name: Process-9, Thread Name: MainThread\n",
      "PID: 1837, Process Name: Process-11, Thread Name: MainThread\n",
      "PID: 1836, Process Name: Process-10, Thread Name: MainThread\n",
      "PID: 1838, Process Name: Process-12, Thread Name: MainThread\n",
      "Parallel time= 2.2443079948425293\n"
     ]
    }
   ],
   "source": [
    "start_time = time.time()\n",
    "for _ in range(NUM_WORKERS):\n",
    "    crunch_numbers()\n",
    "end_time = time.time()\n",
    " \n",
    "print(\"Serial time=\", end_time - start_time)\n",
    " \n",
    "start_time = time.time()\n",
    "threads = [threading.Thread(target=crunch_numbers) for _ in range(NUM_WORKERS)]\n",
    "[thread.start() for thread in threads]\n",
    "[thread.join() for thread in threads]\n",
    "end_time = time.time()\n",
    " \n",
    "print(\"Threads time=\", end_time - start_time)\n",
    " \n",
    " \n",
    "start_time = time.time()\n",
    "processes = [multiprocessing.Process(target=crunch_numbers) for _ in range(NUM_WORKERS)]\n",
    "[process.start() for process in processes]\n",
    "[process.join() for process in processes]\n",
    "end_time = time.time()\n",
    " \n",
    "print(\"Parallel time=\", end_time - start_time)"
   ]
  },
  {
   "cell_type": "code",
   "execution_count": 24,
   "metadata": {},
   "outputs": [],
   "source": [
    "# utils.py\n",
    " \n",
    "import time\n",
    "import logging\n",
    "import requests\n",
    " \n",
    " \n",
    "class WebsiteDownException(Exception):\n",
    "    pass\n",
    " \n",
    " \n",
    "def ping_website(address, timeout=20):\n",
    "    \"\"\"\n",
    "    Check if a website is down. A website is considered down \n",
    "    if either the status_code >= 400 or if the timeout expires\n",
    "     \n",
    "    Throw a WebsiteDownException if any of the website down conditions are met\n",
    "    \"\"\"\n",
    "    try:\n",
    "        response = requests.head(address, timeout=timeout)\n",
    "        if response.status_code >= 400:\n",
    "            logging.warning(\"Website %s returned status_code=%s\" % (address, response.status_code))\n",
    "            raise WebsiteDownException()\n",
    "    except requests.exceptions.RequestException:\n",
    "        logging.warning(\"Timeout expired for website %s\" % address)\n",
    "        raise WebsiteDownException()\n",
    "         \n",
    " \n",
    "def notify_owner(address):\n",
    "    \"\"\" \n",
    "    Send the owner of the address a notification that their website is down \n",
    "     \n",
    "    For now, we're just going to sleep for 0.5 seconds but this is where \n",
    "    you would send an email, push notification or text-message\n",
    "    \"\"\"\n",
    "    logging.info(\"Notifying the owner of %s website\" % address)\n",
    "    time.sleep(0.5)\n",
    "     \n",
    " \n",
    "def check_website(address):\n",
    "    \"\"\"\n",
    "    Utility function: check if a website is down, if so, notify the user\n",
    "    \"\"\"\n",
    "    try:\n",
    "        ping_website(address)\n",
    "    except WebsiteDownException:\n",
    "        notify_owner(address)"
   ]
  },
  {
   "cell_type": "code",
   "execution_count": 25,
   "metadata": {},
   "outputs": [],
   "source": [
    "# websites.py\n",
    " \n",
    "WEBSITE_LIST = [\n",
    "    'http://envato.com',\n",
    "    'http://amazon.co.uk',\n",
    "    'http://amazon.com',\n",
    "    'http://facebook.com',\n",
    "    'http://google.com',\n",
    "    'http://google.fr',\n",
    "    'http://google.es',\n",
    "    'http://google.co.uk',\n",
    "    'http://internet.org',\n",
    "    'http://gmail.com',\n",
    "    'http://stackoverflow.com',\n",
    "    'http://github.com',\n",
    "    'http://heroku.com',\n",
    "    'http://really-cool-available-domain.com',\n",
    "    'http://djangoproject.com',\n",
    "    'http://rubyonrails.org',\n",
    "    'http://basecamp.com',\n",
    "    'http://trello.com',\n",
    "    'http://yiiframework.com',\n",
    "    'http://shopify.com',\n",
    "    'http://another-really-interesting-domain.co',\n",
    "    'http://airbnb.com',\n",
    "    'http://instagram.com',\n",
    "    'http://snapchat.com',\n",
    "    'http://youtube.com',\n",
    "    'http://baidu.com',\n",
    "    'http://yahoo.com',\n",
    "    'http://live.com',\n",
    "    'http://linkedin.com',\n",
    "    'http://yandex.ru',\n",
    "    'http://netflix.com',\n",
    "    'http://wordpress.com',\n",
    "    'http://bing.com',\n",
    "]"
   ]
  },
  {
   "cell_type": "code",
   "execution_count": 26,
   "metadata": {},
   "outputs": [
    {
     "name": "stderr",
     "output_type": "stream",
     "text": [
      "WARNING:root:Timeout expired for website http://really-cool-available-domain.com\n",
      "WARNING:root:Timeout expired for website http://another-really-interesting-domain.co\n",
      "WARNING:root:Timeout expired for website http://baidu.com\n"
     ]
    },
    {
     "name": "stdout",
     "output_type": "stream",
     "text": [
      "Time for SerialSquirrel: 17.094806909561157secs\n"
     ]
    }
   ],
   "source": [
    "# serial_squirrel.py\n",
    " \n",
    "import time\n",
    " \n",
    " \n",
    "start_time = time.time()\n",
    " \n",
    "for address in WEBSITE_LIST:\n",
    "    check_website(address)\n",
    "         \n",
    "end_time = time.time()        \n",
    " \n",
    "print(\"Time for SerialSquirrel: %ssecs\" % (end_time - start_time))"
   ]
  },
  {
   "cell_type": "code",
   "execution_count": 27,
   "metadata": {},
   "outputs": [
    {
     "name": "stderr",
     "output_type": "stream",
     "text": [
      "WARNING:root:Timeout expired for website http://really-cool-available-domain.com\n",
      "WARNING:root:Timeout expired for website http://another-really-interesting-domain.co\n"
     ]
    },
    {
     "name": "stdout",
     "output_type": "stream",
     "text": [
      "Time for ThreadedSquirrel: 5.764275789260864secs\n"
     ]
    }
   ],
   "source": [
    "# threaded_squirrel.py\n",
    " \n",
    "import time\n",
    "from queue import Queue\n",
    "from threading import Thread\n",
    " \n",
    "NUM_WORKERS = 4\n",
    "task_queue = Queue()\n",
    " \n",
    "def worker():\n",
    "    # Constantly check the queue for addresses\n",
    "    while True:\n",
    "        address = task_queue.get()\n",
    "        check_website(address)\n",
    "         \n",
    "        # Mark the processed task as done\n",
    "        task_queue.task_done()\n",
    " \n",
    "start_time = time.time()\n",
    "         \n",
    "# Create the worker threads\n",
    "threads = [Thread(target=worker) for _ in range(NUM_WORKERS)]\n",
    " \n",
    "# Add the websites to the task queue\n",
    "[task_queue.put(item) for item in WEBSITE_LIST]\n",
    " \n",
    "# Start all the workers\n",
    "[thread.start() for thread in threads]\n",
    " \n",
    "# Wait for all the tasks in the queue to be processed\n",
    "task_queue.join()\n",
    " \n",
    "         \n",
    "end_time = time.time()        \n",
    " \n",
    "print(\"Time for ThreadedSquirrel: %ssecs\" % (end_time - start_time))"
   ]
  },
  {
   "cell_type": "code",
   "execution_count": 28,
   "metadata": {},
   "outputs": [
    {
     "name": "stderr",
     "output_type": "stream",
     "text": [
      "WARNING:root:Timeout expired for website http://really-cool-available-domain.com\n",
      "WARNING:root:Timeout expired for website http://another-really-interesting-domain.co\n"
     ]
    },
    {
     "name": "stdout",
     "output_type": "stream",
     "text": [
      "Time for FutureSquirrel: 3.3089399337768555secs\n"
     ]
    }
   ],
   "source": [
    "# future_squirrel.py\n",
    " \n",
    "import time\n",
    "import concurrent.futures\n",
    " \n",
    "NUM_WORKERS = 4\n",
    " \n",
    "start_time = time.time()\n",
    " \n",
    "with concurrent.futures.ThreadPoolExecutor(max_workers=NUM_WORKERS) as executor:\n",
    "    futures = {executor.submit(check_website, address) for address in WEBSITE_LIST}\n",
    "    concurrent.futures.wait(futures)\n",
    " \n",
    "end_time = time.time()        \n",
    " \n",
    "print(\"Time for FutureSquirrel: %ssecs\" % (end_time - start_time))"
   ]
  },
  {
   "cell_type": "code",
   "execution_count": 29,
   "metadata": {},
   "outputs": [
    {
     "name": "stderr",
     "output_type": "stream",
     "text": [
      "WARNING:root:Timeout expired for website http://really-cool-available-domain.com\n",
      "WARNING:root:Timeout expired for website http://another-really-interesting-domain.co\n",
      "WARNING:root:Timeout expired for website http://baidu.com\n"
     ]
    },
    {
     "name": "stdout",
     "output_type": "stream",
     "text": [
      "Time for MultiProcessingSquirrel: 4.274044990539551secs\n"
     ]
    }
   ],
   "source": [
    "# multiprocessing_squirrel.py\n",
    " \n",
    "import time\n",
    "import socket\n",
    "import multiprocessing\n",
    " \n",
    "NUM_WORKERS = 4\n",
    " \n",
    "start_time = time.time()\n",
    " \n",
    "with multiprocessing.Pool(processes=NUM_WORKERS) as pool:\n",
    "    results = pool.map_async(check_website, WEBSITE_LIST)\n",
    "    results.wait()\n",
    " \n",
    "end_time = time.time()        \n",
    " \n",
    "print(\"Time for MultiProcessingSquirrel: %ssecs\" % (end_time - start_time))"
   ]
  },
  {
   "cell_type": "code",
   "execution_count": null,
   "metadata": {},
   "outputs": [],
   "source": []
  }
 ],
 "metadata": {
  "kernelspec": {
   "display_name": "Python 3",
   "language": "python",
   "name": "python3"
  },
  "language_info": {
   "codemirror_mode": {
    "name": "ipython",
    "version": 3
   },
   "file_extension": ".py",
   "mimetype": "text/x-python",
   "name": "python",
   "nbconvert_exporter": "python",
   "pygments_lexer": "ipython3",
   "version": "3.7.4"
  }
 },
 "nbformat": 4,
 "nbformat_minor": 2
}
