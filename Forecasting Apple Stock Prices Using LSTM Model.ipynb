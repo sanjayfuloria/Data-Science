{
 "cells": [
  {
   "cell_type": "code",
   "execution_count": 81,
   "metadata": {},
   "outputs": [],
   "source": [
    "import numpy as np\n",
    "import matplotlib.pyplot as plt\n",
    "import pandas as pd"
   ]
  },
  {
   "cell_type": "code",
   "execution_count": 82,
   "metadata": {},
   "outputs": [],
   "source": [
    "apple_training_complete = pd.read_csv('AAPL_train.csv')"
   ]
  },
  {
   "cell_type": "code",
   "execution_count": 83,
   "metadata": {},
   "outputs": [],
   "source": [
    "apple_training_processed = apple_training_complete.iloc[:, 1:2].values"
   ]
  },
  {
   "cell_type": "code",
   "execution_count": 84,
   "metadata": {},
   "outputs": [],
   "source": [
    "from sklearn.preprocessing import MinMaxScaler\n",
    "scaler = MinMaxScaler(feature_range = (0, 1))\n",
    "\n",
    "apple_training_scaled = scaler.fit_transform(apple_training_processed)"
   ]
  },
  {
   "cell_type": "code",
   "execution_count": 85,
   "metadata": {},
   "outputs": [],
   "source": [
    "features_set = []\n",
    "labels = []\n",
    "for i in range(60, 250):\n",
    "    features_set.append(apple_training_scaled[i-60:i, 0])\n",
    "    labels.append(apple_training_scaled[i, 0])"
   ]
  },
  {
   "cell_type": "code",
   "execution_count": 86,
   "metadata": {},
   "outputs": [],
   "source": [
    "features_set, labels = np.array(features_set), np.array(labels)"
   ]
  },
  {
   "cell_type": "code",
   "execution_count": 87,
   "metadata": {},
   "outputs": [],
   "source": [
    "features_set = np.reshape(features_set, (features_set.shape[0], features_set.shape[1], 1))"
   ]
  },
  {
   "cell_type": "code",
   "execution_count": 88,
   "metadata": {},
   "outputs": [
    {
     "name": "stdout",
     "output_type": "stream",
     "text": [
      "Requirement already satisfied: keras in ./anaconda3/lib/python3.7/site-packages (2.3.1)\n",
      "Requirement already satisfied: six>=1.9.0 in ./anaconda3/lib/python3.7/site-packages (from keras) (1.12.0)\n",
      "Requirement already satisfied: scipy>=0.14 in ./anaconda3/lib/python3.7/site-packages (from keras) (1.4.1)\n",
      "Requirement already satisfied: keras-applications>=1.0.6 in ./anaconda3/lib/python3.7/site-packages (from keras) (1.0.8)\n",
      "Requirement already satisfied: h5py in ./anaconda3/lib/python3.7/site-packages (from keras) (2.9.0)\n",
      "Requirement already satisfied: numpy>=1.9.1 in ./anaconda3/lib/python3.7/site-packages (from keras) (1.17.2)\n",
      "Requirement already satisfied: keras-preprocessing>=1.0.5 in ./anaconda3/lib/python3.7/site-packages (from keras) (1.1.0)\n",
      "Requirement already satisfied: pyyaml in ./anaconda3/lib/python3.7/site-packages (from keras) (5.1.2)\n"
     ]
    }
   ],
   "source": [
    "!pip install keras"
   ]
  },
  {
   "cell_type": "code",
   "execution_count": 89,
   "metadata": {},
   "outputs": [],
   "source": [
    "from keras.models import Sequential\n",
    "from keras.layers import Dense\n",
    "from keras.layers import LSTM\n",
    "from keras.layers import Dropout"
   ]
  },
  {
   "cell_type": "code",
   "execution_count": 90,
   "metadata": {},
   "outputs": [],
   "source": [
    "model = Sequential()"
   ]
  },
  {
   "cell_type": "code",
   "execution_count": 91,
   "metadata": {},
   "outputs": [],
   "source": [
    "model.add(LSTM(units=50, return_sequences=True, input_shape=(features_set.shape[1], 1)))"
   ]
  },
  {
   "cell_type": "code",
   "execution_count": 92,
   "metadata": {},
   "outputs": [],
   "source": [
    "model.add(Dropout(0.2))"
   ]
  },
  {
   "cell_type": "code",
   "execution_count": 93,
   "metadata": {},
   "outputs": [],
   "source": [
    "model.add(LSTM(units=50, return_sequences=True))\n",
    "model.add(Dropout(0.2))\n",
    "\n",
    "model.add(LSTM(units=50, return_sequences=True))\n",
    "model.add(Dropout(0.2))\n",
    "\n",
    "model.add(LSTM(units=50))\n",
    "model.add(Dropout(0.2))"
   ]
  },
  {
   "cell_type": "code",
   "execution_count": 94,
   "metadata": {},
   "outputs": [],
   "source": [
    "model.add(Dense(units = 1))"
   ]
  },
  {
   "cell_type": "code",
   "execution_count": 95,
   "metadata": {},
   "outputs": [],
   "source": [
    "model.compile(optimizer = 'adam', loss = 'mean_squared_error')"
   ]
  },
  {
   "cell_type": "code",
   "execution_count": 96,
   "metadata": {},
   "outputs": [
    {
     "name": "stdout",
     "output_type": "stream",
     "text": [
      "Epoch 1/100\n",
      "190/190 [==============================] - 3s 16ms/step - loss: 0.1441\n",
      "Epoch 2/100\n",
      "190/190 [==============================] - 1s 5ms/step - loss: 0.0336\n",
      "Epoch 3/100\n",
      "190/190 [==============================] - 1s 6ms/step - loss: 0.0314\n",
      "Epoch 4/100\n",
      "190/190 [==============================] - 1s 5ms/step - loss: 0.0189\n",
      "Epoch 5/100\n",
      "190/190 [==============================] - 1s 6ms/step - loss: 0.0133\n",
      "Epoch 6/100\n",
      "190/190 [==============================] - 1s 4ms/step - loss: 0.0105\n",
      "Epoch 7/100\n",
      "190/190 [==============================] - 1s 4ms/step - loss: 0.0068\n",
      "Epoch 8/100\n",
      "190/190 [==============================] - 1s 4ms/step - loss: 0.0056\n",
      "Epoch 9/100\n",
      "190/190 [==============================] - 1s 5ms/step - loss: 0.0052\n",
      "Epoch 10/100\n",
      "190/190 [==============================] - 1s 6ms/step - loss: 0.0060\n",
      "Epoch 11/100\n",
      "190/190 [==============================] - 1s 4ms/step - loss: 0.0060\n",
      "Epoch 12/100\n",
      "190/190 [==============================] - 1s 4ms/step - loss: 0.0066\n",
      "Epoch 13/100\n",
      "190/190 [==============================] - 1s 4ms/step - loss: 0.0060\n",
      "Epoch 14/100\n",
      "190/190 [==============================] - 1s 4ms/step - loss: 0.0057\n",
      "Epoch 15/100\n",
      "190/190 [==============================] - 1s 4ms/step - loss: 0.0060\n",
      "Epoch 16/100\n",
      "190/190 [==============================] - 1s 4ms/step - loss: 0.0066\n",
      "Epoch 17/100\n",
      "190/190 [==============================] - 1s 6ms/step - loss: 0.0059\n",
      "Epoch 18/100\n",
      "190/190 [==============================] - 1s 5ms/step - loss: 0.0053\n",
      "Epoch 19/100\n",
      "190/190 [==============================] - 1s 4ms/step - loss: 0.0066\n",
      "Epoch 20/100\n",
      "190/190 [==============================] - 1s 4ms/step - loss: 0.0061\n",
      "Epoch 21/100\n",
      "190/190 [==============================] - 1s 4ms/step - loss: 0.0061\n",
      "Epoch 22/100\n",
      "190/190 [==============================] - 1s 4ms/step - loss: 0.0069\n",
      "Epoch 23/100\n",
      "190/190 [==============================] - 1s 4ms/step - loss: 0.0051\n",
      "Epoch 24/100\n",
      "190/190 [==============================] - 1s 4ms/step - loss: 0.0044\n",
      "Epoch 25/100\n",
      "190/190 [==============================] - 1s 4ms/step - loss: 0.0052\n",
      "Epoch 26/100\n",
      "190/190 [==============================] - 1s 4ms/step - loss: 0.0047\n",
      "Epoch 27/100\n",
      "190/190 [==============================] - 1s 4ms/step - loss: 0.0055\n",
      "Epoch 28/100\n",
      "190/190 [==============================] - 1s 4ms/step - loss: 0.0065\n",
      "Epoch 29/100\n",
      "190/190 [==============================] - 1s 4ms/step - loss: 0.0057\n",
      "Epoch 30/100\n",
      "190/190 [==============================] - 1s 4ms/step - loss: 0.0050\n",
      "Epoch 31/100\n",
      "190/190 [==============================] - 1s 4ms/step - loss: 0.0043\n",
      "Epoch 32/100\n",
      "190/190 [==============================] - 1s 4ms/step - loss: 0.0056\n",
      "Epoch 33/100\n",
      "190/190 [==============================] - 1s 4ms/step - loss: 0.0047\n",
      "Epoch 34/100\n",
      "190/190 [==============================] - 1s 4ms/step - loss: 0.0057\n",
      "Epoch 35/100\n",
      "190/190 [==============================] - 1s 4ms/step - loss: 0.0057\n",
      "Epoch 36/100\n",
      "190/190 [==============================] - 1s 4ms/step - loss: 0.0050\n",
      "Epoch 37/100\n",
      "190/190 [==============================] - 1s 4ms/step - loss: 0.0047\n",
      "Epoch 38/100\n",
      "190/190 [==============================] - 1s 4ms/step - loss: 0.0057\n",
      "Epoch 39/100\n",
      "190/190 [==============================] - 1s 4ms/step - loss: 0.0053\n",
      "Epoch 40/100\n",
      "190/190 [==============================] - 1s 4ms/step - loss: 0.0056\n",
      "Epoch 41/100\n",
      "190/190 [==============================] - 1s 4ms/step - loss: 0.0046\n",
      "Epoch 42/100\n",
      "190/190 [==============================] - 1s 6ms/step - loss: 0.0050\n",
      "Epoch 43/100\n",
      "190/190 [==============================] - 1s 4ms/step - loss: 0.0052\n",
      "Epoch 44/100\n",
      "190/190 [==============================] - 1s 4ms/step - loss: 0.0045\n",
      "Epoch 45/100\n",
      "190/190 [==============================] - 1s 4ms/step - loss: 0.0049\n",
      "Epoch 46/100\n",
      "190/190 [==============================] - 1s 5ms/step - loss: 0.0050\n",
      "Epoch 47/100\n",
      "190/190 [==============================] - 1s 4ms/step - loss: 0.0045\n",
      "Epoch 48/100\n",
      "190/190 [==============================] - 1s 4ms/step - loss: 0.0047\n",
      "Epoch 49/100\n",
      "190/190 [==============================] - 1s 5ms/step - loss: 0.0059\n",
      "Epoch 50/100\n",
      "190/190 [==============================] - 1s 5ms/step - loss: 0.0043\n",
      "Epoch 51/100\n",
      "190/190 [==============================] - 1s 4ms/step - loss: 0.0041\n",
      "Epoch 52/100\n",
      "190/190 [==============================] - 1s 5ms/step - loss: 0.0047\n",
      "Epoch 53/100\n",
      "190/190 [==============================] - 1s 6ms/step - loss: 0.0050\n",
      "Epoch 54/100\n",
      "190/190 [==============================] - 1s 5ms/step - loss: 0.0049\n",
      "Epoch 55/100\n",
      "190/190 [==============================] - 1s 5ms/step - loss: 0.0048\n",
      "Epoch 56/100\n",
      "190/190 [==============================] - 1s 5ms/step - loss: 0.0046\n",
      "Epoch 57/100\n",
      "190/190 [==============================] - 1s 6ms/step - loss: 0.0047\n",
      "Epoch 58/100\n",
      "190/190 [==============================] - 2s 9ms/step - loss: 0.0052\n",
      "Epoch 59/100\n",
      "190/190 [==============================] - 1s 6ms/step - loss: 0.0050\n",
      "Epoch 60/100\n",
      "190/190 [==============================] - 1s 6ms/step - loss: 0.0047\n",
      "Epoch 61/100\n",
      "190/190 [==============================] - 1s 5ms/step - loss: 0.0043\n",
      "Epoch 62/100\n",
      "190/190 [==============================] - 1s 4ms/step - loss: 0.0039\n",
      "Epoch 63/100\n",
      "190/190 [==============================] - 1s 5ms/step - loss: 0.0044\n",
      "Epoch 64/100\n",
      "190/190 [==============================] - 1s 4ms/step - loss: 0.0041\n",
      "Epoch 65/100\n",
      "190/190 [==============================] - 1s 4ms/step - loss: 0.0045\n",
      "Epoch 66/100\n",
      "190/190 [==============================] - 1s 4ms/step - loss: 0.0052\n",
      "Epoch 67/100\n",
      "190/190 [==============================] - 1s 4ms/step - loss: 0.0042\n",
      "Epoch 68/100\n",
      "190/190 [==============================] - 1s 4ms/step - loss: 0.0045\n",
      "Epoch 69/100\n",
      "190/190 [==============================] - 1s 5ms/step - loss: 0.0042\n",
      "Epoch 70/100\n",
      "190/190 [==============================] - 1s 5ms/step - loss: 0.0033\n",
      "Epoch 71/100\n",
      "190/190 [==============================] - 1s 5ms/step - loss: 0.0035\n",
      "Epoch 72/100\n",
      "190/190 [==============================] - 1s 6ms/step - loss: 0.0040\n",
      "Epoch 73/100\n",
      "190/190 [==============================] - 1s 5ms/step - loss: 0.0036\n",
      "Epoch 74/100\n",
      "190/190 [==============================] - 1s 4ms/step - loss: 0.0034\n",
      "Epoch 75/100\n",
      "190/190 [==============================] - 1s 5ms/step - loss: 0.0031\n",
      "Epoch 76/100\n",
      "190/190 [==============================] - 1s 4ms/step - loss: 0.0034\n",
      "Epoch 77/100\n",
      "190/190 [==============================] - 1s 4ms/step - loss: 0.0042\n",
      "Epoch 78/100\n",
      "190/190 [==============================] - 1s 4ms/step - loss: 0.0045\n",
      "Epoch 79/100\n",
      "190/190 [==============================] - 1s 4ms/step - loss: 0.0035\n",
      "Epoch 80/100\n",
      "190/190 [==============================] - 1s 4ms/step - loss: 0.0031\n",
      "Epoch 81/100\n",
      "190/190 [==============================] - 1s 4ms/step - loss: 0.0039\n",
      "Epoch 82/100\n",
      "190/190 [==============================] - 1s 4ms/step - loss: 0.0033\n",
      "Epoch 83/100\n",
      "190/190 [==============================] - 1s 5ms/step - loss: 0.0040\n",
      "Epoch 84/100\n",
      "190/190 [==============================] - 1s 4ms/step - loss: 0.0037\n",
      "Epoch 85/100\n",
      "190/190 [==============================] - 1s 4ms/step - loss: 0.0034\n",
      "Epoch 86/100\n",
      "190/190 [==============================] - 1s 4ms/step - loss: 0.0030\n",
      "Epoch 87/100\n",
      "190/190 [==============================] - 1s 4ms/step - loss: 0.0033\n",
      "Epoch 88/100\n",
      "190/190 [==============================] - 1s 4ms/step - loss: 0.0025\n",
      "Epoch 89/100\n",
      "190/190 [==============================] - 1s 4ms/step - loss: 0.0031\n",
      "Epoch 90/100\n",
      "190/190 [==============================] - 1s 4ms/step - loss: 0.0029\n",
      "Epoch 91/100\n",
      "190/190 [==============================] - 1s 4ms/step - loss: 0.0037\n",
      "Epoch 92/100\n",
      "190/190 [==============================] - 1s 5ms/step - loss: 0.0038\n",
      "Epoch 93/100\n",
      "190/190 [==============================] - 1s 6ms/step - loss: 0.0033\n",
      "Epoch 94/100\n",
      "190/190 [==============================] - 1s 5ms/step - loss: 0.0034\n",
      "Epoch 95/100\n",
      "190/190 [==============================] - 1s 4ms/step - loss: 0.0035\n",
      "Epoch 96/100\n",
      "190/190 [==============================] - 1s 4ms/step - loss: 0.0034\n",
      "Epoch 97/100\n",
      "190/190 [==============================] - 1s 4ms/step - loss: 0.0025\n",
      "Epoch 98/100\n",
      "190/190 [==============================] - 1s 4ms/step - loss: 0.0031\n",
      "Epoch 99/100\n"
     ]
    },
    {
     "name": "stdout",
     "output_type": "stream",
     "text": [
      "190/190 [==============================] - 1s 4ms/step - loss: 0.0027\n",
      "Epoch 100/100\n",
      "190/190 [==============================] - 1s 4ms/step - loss: 0.0025\n"
     ]
    },
    {
     "data": {
      "text/plain": [
       "<keras.callbacks.callbacks.History at 0x13f734c90>"
      ]
     },
     "execution_count": 96,
     "metadata": {},
     "output_type": "execute_result"
    }
   ],
   "source": [
    "model.fit(features_set, labels, epochs = 100, batch_size = 32)"
   ]
  },
  {
   "cell_type": "code",
   "execution_count": 97,
   "metadata": {},
   "outputs": [],
   "source": [
    "apple_testing_complete = pd.read_csv('AAPL_second_test.csv')\n",
    "apple_testing_processed = apple_testing_complete.iloc[:, 1:2].values"
   ]
  },
  {
   "cell_type": "code",
   "execution_count": 98,
   "metadata": {},
   "outputs": [],
   "source": [
    "apple_total = pd.concat((apple_training_complete['Open'], apple_testing_complete['Open']), axis=0)"
   ]
  },
  {
   "cell_type": "code",
   "execution_count": 99,
   "metadata": {},
   "outputs": [],
   "source": [
    "test_inputs = apple_total[len(apple_total) - len(apple_testing_complete) - 60:].values"
   ]
  },
  {
   "cell_type": "code",
   "execution_count": 100,
   "metadata": {},
   "outputs": [],
   "source": [
    "test_inputs = test_inputs.reshape(-1,1)\n",
    "test_inputs = scaler.transform(test_inputs)"
   ]
  },
  {
   "cell_type": "code",
   "execution_count": 101,
   "metadata": {},
   "outputs": [],
   "source": [
    "test_features = []\n",
    "for i in range(60,80):\n",
    "    test_features.append(test_inputs[i-60:i, 0])"
   ]
  },
  {
   "cell_type": "code",
   "execution_count": 102,
   "metadata": {},
   "outputs": [],
   "source": [
    "test_features = np.array(test_features)\n",
    "test_features = np.reshape(test_features, (test_features.shape[0], test_features.shape[1], 1))"
   ]
  },
  {
   "cell_type": "code",
   "execution_count": 103,
   "metadata": {},
   "outputs": [],
   "source": [
    "predictions = model.predict(test_features)"
   ]
  },
  {
   "cell_type": "code",
   "execution_count": 104,
   "metadata": {},
   "outputs": [],
   "source": [
    "predictions = scaler.inverse_transform(predictions)"
   ]
  },
  {
   "cell_type": "code",
   "execution_count": 105,
   "metadata": {},
   "outputs": [
    {
     "data": {
      "image/png": "[encoded data removed]",
      "text/plain": [
       "<Figure size 720x432 with 1 Axes>"
      ]
     },
     "metadata": {
      "needs_background": "light"
     },
     "output_type": "display_data"
    }
   ],
   "source": [
    "plt.figure(figsize=(10,6))\n",
    "plt.plot(apple_testing_processed, color='blue', label='Actual Apple Stock Price')\n",
    "plt.plot(predictions , color='red', label='Predicted Apple Stock Price')\n",
    "plt.title('Apple Stock Price Prediction')\n",
    "plt.xlabel('Date')\n",
    "plt.ylabel('Apple Stock Price')\n",
    "plt.legend()\n",
    "plt.show()"
   ]
  },
  {
   "cell_type": "code",
   "execution_count": null,
   "metadata": {},
   "outputs": [],
   "source": []
  }
 ],
 "metadata": {
  "kernelspec": {
   "display_name": "Python 3",
   "language": "python",
   "name": "python3"
  },
  "language_info": {
   "codemirror_mode": {
    "name": "ipython",
    "version": 3
   },
   "file_extension": ".py",
   "mimetype": "text/x-python",
   "name": "python",
   "nbconvert_exporter": "python",
   "pygments_lexer": "ipython3",
   "version": "3.7.4"
  }
 },
 "nbformat": 4,
 "nbformat_minor": 2
}
