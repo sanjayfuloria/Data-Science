{
 "cells": [
  {
   "cell_type": "code",
   "execution_count": 19,
   "metadata": {},
   "outputs": [],
   "source": [
    "import numpy as np\n",
    "import pandas as pd"
   ]
  },
  {
   "cell_type": "code",
   "execution_count": 20,
   "metadata": {},
   "outputs": [],
   "source": [
    "conjointinputDF = pd.read_csv(\"conjointinput.csv\", sep = \";\")"
   ]
  },
  {
   "cell_type": "markdown",
   "metadata": {},
   "source": [
    "The input file has a ranking of 3 different features of a TV set (TV Size, TV Type, TV Color) with 3 sizes (32\",37\",42\"), 2 types (LCD, Plasma), and 3 colors (Black, Silver, and Gold). The ranking is for a combination of the above three features."
   ]
  },
  {
   "cell_type": "code",
   "execution_count": 21,
   "metadata": {},
   "outputs": [
    {
     "data": {
      "text/html": [
       "<div>\n",
       "<style scoped>\n",
       "    .dataframe tbody tr th:only-of-type {\n",
       "        vertical-align: middle;\n",
       "    }\n",
       "\n",
       "    .dataframe tbody tr th {\n",
       "        vertical-align: top;\n",
       "    }\n",
       "\n",
       "    .dataframe thead th {\n",
       "        text-align: right;\n",
       "    }\n",
       "</style>\n",
       "<table border=\"1\" class=\"dataframe\">\n",
       "  <thead>\n",
       "    <tr style=\"text-align: right;\">\n",
       "      <th></th>\n",
       "      <th>Stimulus</th>\n",
       "      <th>Rank</th>\n",
       "    </tr>\n",
       "  </thead>\n",
       "  <tbody>\n",
       "    <tr>\n",
       "      <th>0</th>\n",
       "      <td>A1B1C1</td>\n",
       "      <td>2</td>\n",
       "    </tr>\n",
       "    <tr>\n",
       "      <th>1</th>\n",
       "      <td>A1B1C2</td>\n",
       "      <td>3</td>\n",
       "    </tr>\n",
       "    <tr>\n",
       "      <th>2</th>\n",
       "      <td>A1B1C3</td>\n",
       "      <td>1</td>\n",
       "    </tr>\n",
       "    <tr>\n",
       "      <th>3</th>\n",
       "      <td>A1B2C1</td>\n",
       "      <td>5</td>\n",
       "    </tr>\n",
       "    <tr>\n",
       "      <th>4</th>\n",
       "      <td>A1B2C2</td>\n",
       "      <td>6</td>\n",
       "    </tr>\n",
       "    <tr>\n",
       "      <th>5</th>\n",
       "      <td>A1B2C3</td>\n",
       "      <td>4</td>\n",
       "    </tr>\n",
       "    <tr>\n",
       "      <th>6</th>\n",
       "      <td>A2B1C1</td>\n",
       "      <td>8</td>\n",
       "    </tr>\n",
       "    <tr>\n",
       "      <th>7</th>\n",
       "      <td>A2B1C2</td>\n",
       "      <td>9</td>\n",
       "    </tr>\n",
       "    <tr>\n",
       "      <th>8</th>\n",
       "      <td>A2B1C3</td>\n",
       "      <td>7</td>\n",
       "    </tr>\n",
       "    <tr>\n",
       "      <th>9</th>\n",
       "      <td>A2B2C1</td>\n",
       "      <td>11</td>\n",
       "    </tr>\n",
       "    <tr>\n",
       "      <th>10</th>\n",
       "      <td>A2B2C2</td>\n",
       "      <td>12</td>\n",
       "    </tr>\n",
       "    <tr>\n",
       "      <th>11</th>\n",
       "      <td>A2B2C3</td>\n",
       "      <td>10</td>\n",
       "    </tr>\n",
       "    <tr>\n",
       "      <th>12</th>\n",
       "      <td>A3B1C1</td>\n",
       "      <td>14</td>\n",
       "    </tr>\n",
       "    <tr>\n",
       "      <th>13</th>\n",
       "      <td>A3B1C2</td>\n",
       "      <td>15</td>\n",
       "    </tr>\n",
       "    <tr>\n",
       "      <th>14</th>\n",
       "      <td>A3B1C3</td>\n",
       "      <td>13</td>\n",
       "    </tr>\n",
       "    <tr>\n",
       "      <th>15</th>\n",
       "      <td>A3B2C1</td>\n",
       "      <td>17</td>\n",
       "    </tr>\n",
       "    <tr>\n",
       "      <th>16</th>\n",
       "      <td>A3B2C2</td>\n",
       "      <td>18</td>\n",
       "    </tr>\n",
       "    <tr>\n",
       "      <th>17</th>\n",
       "      <td>A3B2C3</td>\n",
       "      <td>16</td>\n",
       "    </tr>\n",
       "  </tbody>\n",
       "</table>\n",
       "</div>"
      ],
      "text/plain": [
       "   Stimulus  Rank\n",
       "0    A1B1C1     2\n",
       "1    A1B1C2     3\n",
       "2    A1B1C3     1\n",
       "3    A1B2C1     5\n",
       "4    A1B2C2     6\n",
       "5    A1B2C3     4\n",
       "6    A2B1C1     8\n",
       "7    A2B1C2     9\n",
       "8    A2B1C3     7\n",
       "9    A2B2C1    11\n",
       "10   A2B2C2    12\n",
       "11   A2B2C3    10\n",
       "12   A3B1C1    14\n",
       "13   A3B1C2    15\n",
       "14   A3B1C3    13\n",
       "15   A3B2C1    17\n",
       "16   A3B2C2    18\n",
       "17   A3B2C3    16"
      ]
     },
     "execution_count": 21,
     "metadata": {},
     "output_type": "execute_result"
    }
   ],
   "source": [
    "conjointinputDF"
   ]
  },
  {
   "cell_type": "markdown",
   "metadata": {},
   "source": [
    "Initially we need to introduce dummy variables for every stimulus.There are in total 9 differen stimuli, and 18 different combinations"
   ]
  },
  {
   "cell_type": "code",
   "execution_count": 22,
   "metadata": {},
   "outputs": [],
   "source": [
    "conjointDummyDF = pd.DataFrame(np.zeros((18,9)), columns=[\"Rank\",\"A1\", \"A2\", \"A3\",\n",
    "                                                    \"B1\",\"B2\", \n",
    "                                                    \"C1\", \"C2\",\n",
    "                                                    \"C3\"])"
   ]
  },
  {
   "cell_type": "code",
   "execution_count": 23,
   "metadata": {},
   "outputs": [
    {
     "name": "stderr",
     "output_type": "stream",
     "text": [
      "/usr/local/lib/python2.7/site-packages/ipykernel_launcher.py:4: DeprecationWarning: \n",
      ".ix is deprecated. Please use\n",
      ".loc for label based indexing or\n",
      ".iloc for positional indexing\n",
      "\n",
      "See the documentation here:\n",
      "http://pandas.pydata.org/pandas-docs/stable/indexing.html#ix-indexer-is-deprecated\n",
      "  after removing the cwd from sys.path.\n",
      "/usr/local/lib/python2.7/site-packages/ipykernel_launcher.py:7: DeprecationWarning: \n",
      ".ix is deprecated. Please use\n",
      ".loc for label based indexing or\n",
      ".iloc for positional indexing\n",
      "\n",
      "See the documentation here:\n",
      "http://pandas.pydata.org/pandas-docs/stable/indexing.html#ix-indexer-is-deprecated\n",
      "  import sys\n"
     ]
    }
   ],
   "source": [
    "conjointDummyDF.Rank = conjointinputDF.Rank\n",
    "\n",
    "for index, row in conjointinputDF.iterrows(): \n",
    "    stimuli1, stimuli2, stimuli3 = conjointinputDF[\"Stimulus\"].ix[index][:2], \\\n",
    "    conjointinputDF[\"Stimulus\"].ix[index][2:4], conjointinputDF[\"Stimulus\"].ix[index][4:6]\n",
    "    \n",
    "    \n",
    "    conjointDummyDF.ix[index, [stimuli1,stimuli2,stimuli3]] = 1"
   ]
  },
  {
   "cell_type": "code",
   "execution_count": 24,
   "metadata": {},
   "outputs": [
    {
     "data": {
      "text/html": [
       "<div>\n",
       "<style scoped>\n",
       "    .dataframe tbody tr th:only-of-type {\n",
       "        vertical-align: middle;\n",
       "    }\n",
       "\n",
       "    .dataframe tbody tr th {\n",
       "        vertical-align: top;\n",
       "    }\n",
       "\n",
       "    .dataframe thead th {\n",
       "        text-align: right;\n",
       "    }\n",
       "</style>\n",
       "<table border=\"1\" class=\"dataframe\">\n",
       "  <thead>\n",
       "    <tr style=\"text-align: right;\">\n",
       "      <th></th>\n",
       "      <th>Rank</th>\n",
       "      <th>A1</th>\n",
       "      <th>A2</th>\n",
       "      <th>A3</th>\n",
       "      <th>B1</th>\n",
       "      <th>B2</th>\n",
       "      <th>C1</th>\n",
       "      <th>C2</th>\n",
       "      <th>C3</th>\n",
       "    </tr>\n",
       "  </thead>\n",
       "  <tbody>\n",
       "    <tr>\n",
       "      <th>0</th>\n",
       "      <td>2</td>\n",
       "      <td>1.0</td>\n",
       "      <td>0.0</td>\n",
       "      <td>0.0</td>\n",
       "      <td>1.0</td>\n",
       "      <td>0.0</td>\n",
       "      <td>1.0</td>\n",
       "      <td>0.0</td>\n",
       "      <td>0.0</td>\n",
       "    </tr>\n",
       "    <tr>\n",
       "      <th>1</th>\n",
       "      <td>3</td>\n",
       "      <td>1.0</td>\n",
       "      <td>0.0</td>\n",
       "      <td>0.0</td>\n",
       "      <td>1.0</td>\n",
       "      <td>0.0</td>\n",
       "      <td>0.0</td>\n",
       "      <td>1.0</td>\n",
       "      <td>0.0</td>\n",
       "    </tr>\n",
       "    <tr>\n",
       "      <th>2</th>\n",
       "      <td>1</td>\n",
       "      <td>1.0</td>\n",
       "      <td>0.0</td>\n",
       "      <td>0.0</td>\n",
       "      <td>1.0</td>\n",
       "      <td>0.0</td>\n",
       "      <td>0.0</td>\n",
       "      <td>0.0</td>\n",
       "      <td>1.0</td>\n",
       "    </tr>\n",
       "    <tr>\n",
       "      <th>3</th>\n",
       "      <td>5</td>\n",
       "      <td>1.0</td>\n",
       "      <td>0.0</td>\n",
       "      <td>0.0</td>\n",
       "      <td>0.0</td>\n",
       "      <td>1.0</td>\n",
       "      <td>1.0</td>\n",
       "      <td>0.0</td>\n",
       "      <td>0.0</td>\n",
       "    </tr>\n",
       "    <tr>\n",
       "      <th>4</th>\n",
       "      <td>6</td>\n",
       "      <td>1.0</td>\n",
       "      <td>0.0</td>\n",
       "      <td>0.0</td>\n",
       "      <td>0.0</td>\n",
       "      <td>1.0</td>\n",
       "      <td>0.0</td>\n",
       "      <td>1.0</td>\n",
       "      <td>0.0</td>\n",
       "    </tr>\n",
       "  </tbody>\n",
       "</table>\n",
       "</div>"
      ],
      "text/plain": [
       "   Rank   A1   A2   A3   B1   B2   C1   C2   C3\n",
       "0     2  1.0  0.0  0.0  1.0  0.0  1.0  0.0  0.0\n",
       "1     3  1.0  0.0  0.0  1.0  0.0  0.0  1.0  0.0\n",
       "2     1  1.0  0.0  0.0  1.0  0.0  0.0  0.0  1.0\n",
       "3     5  1.0  0.0  0.0  0.0  1.0  1.0  0.0  0.0\n",
       "4     6  1.0  0.0  0.0  0.0  1.0  0.0  1.0  0.0"
      ]
     },
     "execution_count": 24,
     "metadata": {},
     "output_type": "execute_result"
    }
   ],
   "source": [
    "conjointDummyDF.head()"
   ]
  },
  {
   "cell_type": "markdown",
   "metadata": {},
   "source": [
    "Insert the proper Stimulus names"
   ]
  },
  {
   "cell_type": "code",
   "execution_count": 25,
   "metadata": {},
   "outputs": [],
   "source": [
    "fullNames = {\"Rank\":\"Rank\", \\\n",
    "           \"A1\": \"32\\\" (81cm)\",\"A2\": \"37\\\" (94cm)\",\"A3\": \"42\\\" (107cm)\", \\\n",
    "          \"B1\": \"Plasma\", \"B2\":\"LCD\", \\\n",
    "           \"C1\":\"Silver\", \"C2\":\"Black\", \"C3\": \"Golden\",\\\n",
    "          }\n",
    "\n",
    "conjointDummyDF.rename(columns=fullNames, inplace=True)"
   ]
  },
  {
   "cell_type": "code",
   "execution_count": 26,
   "metadata": {},
   "outputs": [
    {
     "data": {
      "text/html": [
       "<div>\n",
       "<style scoped>\n",
       "    .dataframe tbody tr th:only-of-type {\n",
       "        vertical-align: middle;\n",
       "    }\n",
       "\n",
       "    .dataframe tbody tr th {\n",
       "        vertical-align: top;\n",
       "    }\n",
       "\n",
       "    .dataframe thead th {\n",
       "        text-align: right;\n",
       "    }\n",
       "</style>\n",
       "<table border=\"1\" class=\"dataframe\">\n",
       "  <thead>\n",
       "    <tr style=\"text-align: right;\">\n",
       "      <th></th>\n",
       "      <th>Rank</th>\n",
       "      <th>32\" (81cm)</th>\n",
       "      <th>37\" (94cm)</th>\n",
       "      <th>42\" (107cm)</th>\n",
       "      <th>Plasma</th>\n",
       "      <th>LCD</th>\n",
       "      <th>Silver</th>\n",
       "      <th>Black</th>\n",
       "      <th>Golden</th>\n",
       "    </tr>\n",
       "  </thead>\n",
       "  <tbody>\n",
       "    <tr>\n",
       "      <th>0</th>\n",
       "      <td>2</td>\n",
       "      <td>1.0</td>\n",
       "      <td>0.0</td>\n",
       "      <td>0.0</td>\n",
       "      <td>1.0</td>\n",
       "      <td>0.0</td>\n",
       "      <td>1.0</td>\n",
       "      <td>0.0</td>\n",
       "      <td>0.0</td>\n",
       "    </tr>\n",
       "    <tr>\n",
       "      <th>1</th>\n",
       "      <td>3</td>\n",
       "      <td>1.0</td>\n",
       "      <td>0.0</td>\n",
       "      <td>0.0</td>\n",
       "      <td>1.0</td>\n",
       "      <td>0.0</td>\n",
       "      <td>0.0</td>\n",
       "      <td>1.0</td>\n",
       "      <td>0.0</td>\n",
       "    </tr>\n",
       "    <tr>\n",
       "      <th>2</th>\n",
       "      <td>1</td>\n",
       "      <td>1.0</td>\n",
       "      <td>0.0</td>\n",
       "      <td>0.0</td>\n",
       "      <td>1.0</td>\n",
       "      <td>0.0</td>\n",
       "      <td>0.0</td>\n",
       "      <td>0.0</td>\n",
       "      <td>1.0</td>\n",
       "    </tr>\n",
       "    <tr>\n",
       "      <th>3</th>\n",
       "      <td>5</td>\n",
       "      <td>1.0</td>\n",
       "      <td>0.0</td>\n",
       "      <td>0.0</td>\n",
       "      <td>0.0</td>\n",
       "      <td>1.0</td>\n",
       "      <td>1.0</td>\n",
       "      <td>0.0</td>\n",
       "      <td>0.0</td>\n",
       "    </tr>\n",
       "    <tr>\n",
       "      <th>4</th>\n",
       "      <td>6</td>\n",
       "      <td>1.0</td>\n",
       "      <td>0.0</td>\n",
       "      <td>0.0</td>\n",
       "      <td>0.0</td>\n",
       "      <td>1.0</td>\n",
       "      <td>0.0</td>\n",
       "      <td>1.0</td>\n",
       "      <td>0.0</td>\n",
       "    </tr>\n",
       "  </tbody>\n",
       "</table>\n",
       "</div>"
      ],
      "text/plain": [
       "   Rank  32\" (81cm)  37\" (94cm)  42\" (107cm)  Plasma  LCD  Silver  Black  \\\n",
       "0     2         1.0         0.0          0.0     1.0  0.0     1.0    0.0   \n",
       "1     3         1.0         0.0          0.0     1.0  0.0     0.0    1.0   \n",
       "2     1         1.0         0.0          0.0     1.0  0.0     0.0    0.0   \n",
       "3     5         1.0         0.0          0.0     0.0  1.0     1.0    0.0   \n",
       "4     6         1.0         0.0          0.0     0.0  1.0     0.0    1.0   \n",
       "\n",
       "   Golden  \n",
       "0     0.0  \n",
       "1     0.0  \n",
       "2     1.0  \n",
       "3     0.0  \n",
       "4     0.0  "
      ]
     },
     "execution_count": 26,
     "metadata": {},
     "output_type": "execute_result"
    }
   ],
   "source": [
    "conjointDummyDF.head()"
   ]
  },
  {
   "cell_type": "markdown",
   "metadata": {},
   "source": [
    "Estimate Main Effects with a linear regression\n",
    "There are different ways for parameter estimation beside linear regression depending on what kind of rating you have.\n",
    "For example using Probit or Logit is the output is not a rank but a decision (1=chose stimulus, 0 = no choice)."
   ]
  },
  {
   "cell_type": "code",
   "execution_count": 27,
   "metadata": {},
   "outputs": [],
   "source": [
    "import statsmodels.api as sm"
   ]
  },
  {
   "cell_type": "code",
   "execution_count": 28,
   "metadata": {},
   "outputs": [
    {
     "data": {
      "text/plain": [
       "Index([u'Rank', u'32\" (81cm)', u'37\" (94cm)', u'42\" (107cm)', u'Plasma',\n",
       "       u'LCD', u'Silver', u'Black', u'Golden'],\n",
       "      dtype='object')"
      ]
     },
     "execution_count": 28,
     "metadata": {},
     "output_type": "execute_result"
    }
   ],
   "source": [
    "conjointDummyDF.columns"
   ]
  },
  {
   "cell_type": "code",
   "execution_count": 30,
   "metadata": {},
   "outputs": [
    {
     "name": "stderr",
     "output_type": "stream",
     "text": [
      "/usr/local/lib/python2.7/site-packages/scipy/stats/stats.py:1327: UserWarning: kurtosistest only valid for n>=20 ... continuing anyway, n=18\n",
      "  \"anyway, n=%i\" % int(n))\n"
     ]
    },
    {
     "data": {
      "text/html": [
       "<table class=\"simpletable\">\n",
       "<caption>OLS Regression Results</caption>\n",
       "<tr>\n",
       "  <th>Dep. Variable:</th>          <td>Rank</td>       <th>  R-squared:         </th> <td>   1.000</td> \n",
       "</tr>\n",
       "<tr>\n",
       "  <th>Model:</th>                   <td>OLS</td>       <th>  Adj. R-squared:    </th> <td>   1.000</td> \n",
       "</tr>\n",
       "<tr>\n",
       "  <th>Method:</th>             <td>Least Squares</td>  <th>  F-statistic:       </th> <td>3.203e+30</td>\n",
       "</tr>\n",
       "<tr>\n",
       "  <th>Date:</th>             <td>Thu, 13 Dec 2018</td> <th>  Prob (F-statistic):</th> <td>2.60e-180</td>\n",
       "</tr>\n",
       "<tr>\n",
       "  <th>Time:</th>                 <td>17:11:23</td>     <th>  Log-Likelihood:    </th> <td>  569.12</td> \n",
       "</tr>\n",
       "<tr>\n",
       "  <th>No. Observations:</th>      <td>    18</td>      <th>  AIC:               </th> <td>  -1126.</td> \n",
       "</tr>\n",
       "<tr>\n",
       "  <th>Df Residuals:</th>          <td>    12</td>      <th>  BIC:               </th> <td>  -1121.</td> \n",
       "</tr>\n",
       "<tr>\n",
       "  <th>Df Model:</th>              <td>     5</td>      <th>                     </th>     <td> </td>    \n",
       "</tr>\n",
       "<tr>\n",
       "  <th>Covariance Type:</th>      <td>nonrobust</td>    <th>                     </th>     <td> </td>    \n",
       "</tr>\n",
       "</table>\n",
       "<table class=\"simpletable\">\n",
       "<tr>\n",
       "       <td></td>          <th>coef</th>     <th>std err</th>      <th>t</th>      <th>P>|t|</th>  <th>[0.025</th>    <th>0.975]</th>  \n",
       "</tr>\n",
       "<tr>\n",
       "  <th>const</th>       <td>    4.3846</td> <td> 5.98e-16</td> <td> 7.33e+15</td> <td> 0.000</td> <td>    4.385</td> <td>    4.385</td>\n",
       "</tr>\n",
       "<tr>\n",
       "  <th>32\" (81cm)</th>  <td>   -4.5385</td> <td> 1.84e-15</td> <td>-2.46e+15</td> <td> 0.000</td> <td>   -4.538</td> <td>   -4.538</td>\n",
       "</tr>\n",
       "<tr>\n",
       "  <th>37\" (94cm)</th>  <td>    1.4615</td> <td> 1.84e-15</td> <td> 7.92e+14</td> <td> 0.000</td> <td>    1.462</td> <td>    1.462</td>\n",
       "</tr>\n",
       "<tr>\n",
       "  <th>42\" (107cm)</th> <td>    7.4615</td> <td> 1.84e-15</td> <td> 4.05e+15</td> <td> 0.000</td> <td>    7.462</td> <td>    7.462</td>\n",
       "</tr>\n",
       "<tr>\n",
       "  <th>Plasma</th>      <td>    0.6923</td> <td> 1.33e-15</td> <td>  5.2e+14</td> <td> 0.000</td> <td>    0.692</td> <td>    0.692</td>\n",
       "</tr>\n",
       "<tr>\n",
       "  <th>LCD</th>         <td>    3.6923</td> <td> 1.33e-15</td> <td> 2.77e+15</td> <td> 0.000</td> <td>    3.692</td> <td>    3.692</td>\n",
       "</tr>\n",
       "<tr>\n",
       "  <th>Silver</th>      <td>    1.4615</td> <td> 1.84e-15</td> <td> 7.92e+14</td> <td> 0.000</td> <td>    1.462</td> <td>    1.462</td>\n",
       "</tr>\n",
       "<tr>\n",
       "  <th>Black</th>       <td>    2.4615</td> <td> 1.84e-15</td> <td> 1.33e+15</td> <td> 0.000</td> <td>    2.462</td> <td>    2.462</td>\n",
       "</tr>\n",
       "<tr>\n",
       "  <th>Golden</th>      <td>    0.4615</td> <td> 1.84e-15</td> <td>  2.5e+14</td> <td> 0.000</td> <td>    0.462</td> <td>    0.462</td>\n",
       "</tr>\n",
       "</table>\n",
       "<table class=\"simpletable\">\n",
       "<tr>\n",
       "  <th>Omnibus:</th>       <td> 2.545</td> <th>  Durbin-Watson:     </th> <td>   1.815</td>\n",
       "</tr>\n",
       "<tr>\n",
       "  <th>Prob(Omnibus):</th> <td> 0.280</td> <th>  Jarque-Bera (JB):  </th> <td>   1.621</td>\n",
       "</tr>\n",
       "<tr>\n",
       "  <th>Skew:</th>          <td>-0.507</td> <th>  Prob(JB):          </th> <td>   0.445</td>\n",
       "</tr>\n",
       "<tr>\n",
       "  <th>Kurtosis:</th>      <td> 1.935</td> <th>  Cond. No.          </th> <td>1.02e+17</td>\n",
       "</tr>\n",
       "</table><br/><br/>Warnings:<br/>[1] Standard Errors assume that the covariance matrix of the errors is correctly specified.<br/>[2] The smallest eigenvalue is 3.73e-33. This might indicate that there are<br/>strong multicollinearity problems or that the design matrix is singular."
      ],
      "text/plain": [
       "<class 'statsmodels.iolib.summary.Summary'>\n",
       "\"\"\"\n",
       "                            OLS Regression Results                            \n",
       "==============================================================================\n",
       "Dep. Variable:                   Rank   R-squared:                       1.000\n",
       "Model:                            OLS   Adj. R-squared:                  1.000\n",
       "Method:                 Least Squares   F-statistic:                 3.203e+30\n",
       "Date:                Thu, 13 Dec 2018   Prob (F-statistic):          2.60e-180\n",
       "Time:                        17:11:23   Log-Likelihood:                 569.12\n",
       "No. Observations:                  18   AIC:                            -1126.\n",
       "Df Residuals:                      12   BIC:                            -1121.\n",
       "Df Model:                           5                                         \n",
       "Covariance Type:            nonrobust                                         \n",
       "===============================================================================\n",
       "                  coef    std err          t      P>|t|      [0.025      0.975]\n",
       "-------------------------------------------------------------------------------\n",
       "const           4.3846   5.98e-16   7.33e+15      0.000       4.385       4.385\n",
       "32\" (81cm)     -4.5385   1.84e-15  -2.46e+15      0.000      -4.538      -4.538\n",
       "37\" (94cm)      1.4615   1.84e-15   7.92e+14      0.000       1.462       1.462\n",
       "42\" (107cm)     7.4615   1.84e-15   4.05e+15      0.000       7.462       7.462\n",
       "Plasma          0.6923   1.33e-15    5.2e+14      0.000       0.692       0.692\n",
       "LCD             3.6923   1.33e-15   2.77e+15      0.000       3.692       3.692\n",
       "Silver          1.4615   1.84e-15   7.92e+14      0.000       1.462       1.462\n",
       "Black           2.4615   1.84e-15   1.33e+15      0.000       2.462       2.462\n",
       "Golden          0.4615   1.84e-15    2.5e+14      0.000       0.462       0.462\n",
       "==============================================================================\n",
       "Omnibus:                        2.545   Durbin-Watson:                   1.815\n",
       "Prob(Omnibus):                  0.280   Jarque-Bera (JB):                1.621\n",
       "Skew:                          -0.507   Prob(JB):                        0.445\n",
       "Kurtosis:                       1.935   Cond. No.                     1.02e+17\n",
       "==============================================================================\n",
       "\n",
       "Warnings:\n",
       "[1] Standard Errors assume that the covariance matrix of the errors is correctly specified.\n",
       "[2] The smallest eigenvalue is 3.73e-33. This might indicate that there are\n",
       "strong multicollinearity problems or that the design matrix is singular.\n",
       "\"\"\""
      ]
     },
     "execution_count": 30,
     "metadata": {},
     "output_type": "execute_result"
    }
   ],
   "source": [
    "X = conjointDummyDF[[u'32\" (81cm)', u'37\" (94cm)', u'42\" (107cm)', u'Plasma',\\\n",
    "       u'LCD', u'Silver', u'Black', u'Golden']]\n",
    "X = sm.add_constant(X)\n",
    "Y = conjointDummyDF.Rank\n",
    "linearRegression = sm.OLS(Y, X). fit()\n",
    "linearRegression.summary()"
   ]
  },
  {
   "cell_type": "markdown",
   "metadata": {},
   "source": [
    "Part worth values & relative importance of the stimuli\n",
    "Importance of Stimuli= Max(beta) - Min(beta) \n",
    "Relative Importance of Stimuli = Importance of Stim / Sum(Importance of all Stimuli)"
   ]
  },
  {
   "cell_type": "code",
   "execution_count": 31,
   "metadata": {},
   "outputs": [],
   "source": [
    "importance = []\n",
    "relative_importance = []\n",
    "\n",
    "rangePerFeature = []\n",
    "\n",
    "begin = \"A\"\n",
    "tempRange = []\n",
    "for stimuli in fullNames.keys():\n",
    "    if stimuli[0] == begin:\n",
    "        tempRange.append(linearRegression.params[fullNames[stimuli]])\n",
    "    elif stimuli == \"Rank\":\n",
    "        rangePerFeature.append(tempRange)\n",
    "    else:\n",
    "        rangePerFeature.append(tempRange)\n",
    "        begin = stimuli[0]\n",
    "        tempRange = [linearRegression.params[fullNames[stimuli]]]"
   ]
  },
  {
   "cell_type": "code",
   "execution_count": 32,
   "metadata": {},
   "outputs": [],
   "source": [
    "for item in rangePerFeature:\n",
    "    importance.append( max(item) - min(item))\n",
    "\n",
    "for item in importance:\n",
    "    relative_importance.append(100* round(item/sum(importance),3))"
   ]
  },
  {
   "cell_type": "code",
   "execution_count": 33,
   "metadata": {},
   "outputs": [
    {
     "name": "stdout",
     "output_type": "stream",
     "text": [
      "32\" (81cm)   -4.538462\n",
      "37\" (94cm)    1.461538\n",
      "dtype: float64\n",
      "42\" (107cm)    7.461538\n",
      "Plasma         0.692308\n",
      "dtype: float64\n",
      "LCD       3.692308\n",
      "Silver    1.461538\n",
      "Black     2.461538\n",
      "dtype: float64\n"
     ]
    }
   ],
   "source": [
    "partworths = []\n",
    "\n",
    "item_levels = [1,3,5,8]\n",
    "\n",
    "for i in range(1,4):\n",
    "    part_worth_range = linearRegression.params[item_levels[i-1]:item_levels[i]]\n",
    "    print part_worth_range"
   ]
  },
  {
   "cell_type": "code",
   "execution_count": 34,
   "metadata": {},
   "outputs": [],
   "source": [
    "meanRank = []\n",
    "for i in conjointDummyDF.columns[1:]:\n",
    "    newmeanRank = conjointDummyDF[\"Rank\"].loc[conjointDummyDF[i] == 1].mean()\n",
    "    meanRank.append(newmeanRank)\n",
    "\n",
    "    \n",
    "#total Mean or, \"basic utility\" is used as the \"zero alternative\"\n",
    "totalMeanRank = sum(meanRank) / len(meanRank)\n",
    "\n",
    "\n",
    "\n",
    "partWorths = {}\n",
    "for i in range(len(meanRank)):\n",
    "    name = fullNames[sorted(fullNames.keys())[i]]\n",
    "    partWorths[name] = meanRank[i] - totalMeanRank"
   ]
  },
  {
   "cell_type": "code",
   "execution_count": 35,
   "metadata": {},
   "outputs": [
    {
     "data": {
      "text/plain": [
       "{'32\" (81cm)': -6.0,\n",
       " '37\" (94cm)': 0.0,\n",
       " '42\" (107cm)': 6.0,\n",
       " 'Black': 1.0,\n",
       " 'Golden': -1.0,\n",
       " 'LCD': 1.5,\n",
       " 'Plasma': -1.5,\n",
       " 'Silver': 0.0}"
      ]
     },
     "execution_count": 35,
     "metadata": {},
     "output_type": "execute_result"
    }
   ],
   "source": [
    "partWorths"
   ]
  },
  {
   "cell_type": "markdown",
   "metadata": {},
   "source": [
    "Summary & Results"
   ]
  },
  {
   "cell_type": "code",
   "execution_count": 36,
   "metadata": {},
   "outputs": [
    {
     "name": "stdout",
     "output_type": "stream",
     "text": [
      "Relative Importance of Feature:\n",
      "\n",
      "Monitor Size: 70.6 % \n",
      "Type of Monitor: 17.6 % \n",
      "Color of TV: 11.8 %\n",
      "\n",
      "\n",
      "------------------------------------------------------------\n",
      "Importance of Feature:\n",
      "\n",
      "Monitor Size: 12.0 \n",
      "Type of Monitor: 2.9999999999999987 \n",
      "Color of TV: 1.9999999999999925\n"
     ]
    }
   ],
   "source": [
    "print \"Relative Importance of Feature:\\n\\nMonitor Size:\",relative_importance[0], \"%\",\\\n",
    "\"\\nType of Monitor:\", relative_importance[1], \"%\", \"\\nColor of TV:\", relative_importance[2], \"%\\n\\n\"\n",
    "\n",
    "print \"--\"*30\n",
    "\n",
    "print \"Importance of Feature:\\n\\nMonitor Size:\",importance[0],\\\n",
    "\"\\nType of Monitor:\", importance[1],  \"\\nColor of TV:\", importance[2]"
   ]
  },
  {
   "cell_type": "code",
   "execution_count": 37,
   "metadata": {},
   "outputs": [
    {
     "name": "stdout",
     "output_type": "stream",
     "text": [
      "The best possible Combination of Stimuli would have the highest rank: 17.999999999999993\n"
     ]
    }
   ],
   "source": [
    "#As array that looks like X\n",
    "#Must include Constant!\n",
    "\n",
    "optBundle = [1,0,0,1,0,1,0,1,0]\n",
    "print \"The best possible Combination of Stimuli would have the highest rank:\",\\\n",
    "linearRegression.predict(optBundle)[0]"
   ]
  },
  {
   "cell_type": "markdown",
   "metadata": {},
   "source": [
    "Using the Partworths:"
   ]
  },
  {
   "cell_type": "code",
   "execution_count": 38,
   "metadata": {},
   "outputs": [
    {
     "name": "stdout",
     "output_type": "stream",
     "text": [
      "Choosing the optimal Combination brings the user an additional  8.5 'units' of utility\n"
     ]
    }
   ],
   "source": [
    "#Optimal Bundle:\n",
    "#42\", LCD, Black\n",
    "\n",
    "optimalWorth = partWorths[\"42\\\" (107cm)\"] + partWorths[\"LCD\"] + partWorths[\"Black\"]\n",
    "\n",
    "print \"Choosing the optimal Combination brings the user an additional \", optimalWorth, \"'units' of utility\""
   ]
  },
  {
   "cell_type": "code",
   "execution_count": null,
   "metadata": {},
   "outputs": [],
   "source": []
  }
 ],
 "metadata": {
  "kernelspec": {
   "display_name": "Python 2",
   "language": "python",
   "name": "python2"
  },
  "language_info": {
   "codemirror_mode": {
    "name": "ipython",
    "version": 2
   },
   "file_extension": ".py",
   "mimetype": "text/x-python",
   "name": "python",
   "nbconvert_exporter": "python",
   "pygments_lexer": "ipython2",
   "version": "2.7.15"
  }
 },
 "nbformat": 4,
 "nbformat_minor": 2
}
